{
  "nbformat": 4,
  "nbformat_minor": 0,
  "metadata": {
    "colab": {
      "provenance": [],
      "include_colab_link": true
    },
    "kernelspec": {
      "name": "python3",
      "display_name": "Python 3"
    },
    "language_info": {
      "name": "python"
    }
  },
  "cells": [
    {
      "cell_type": "markdown",
      "metadata": {
        "id": "view-in-github",
        "colab_type": "text"
      },
      "source": [
        "<a href=\"https://colab.research.google.com/github/carlosgutierrez15/Intro_Python_202320/blob/main/Taller_3.ipynb\" target=\"_parent\"><img src=\"https://colab.research.google.com/assets/colab-badge.svg\" alt=\"Open In Colab\"/></a>"
      ]
    },
    {
      "cell_type": "markdown",
      "source": [
        "# Sintaxis Básica de Pythonn\n",
        "## Curso de programacion y algorirmia UPB 202320\n",
        "- Nombre: Walter Charris - Carlos Gutierrez\n",
        "- ID: 000483335 - 000502183\n",
        "- Email: walter.charris@upb.edu.co - carlos.gutierrezg@upb.edu.co\n",
        "\n",
        "###Objetivo\n",
        "- Diseñar y escribir algoritmos con estructuras secuencialesutilizando variables y operaciones básicasen el lenguaje de programación Python"
      ],
      "metadata": {
        "id": "DdEeJ7_RK8QE"
      }
    },
    {
      "cell_type": "code",
      "source": [
        "x0 = float(input(\"Escriba la posicion inicial: \"))\n",
        "v0 = float(input(\"Escriba su velocidad inicial: \"))\n",
        "a = float(input(\"Escriba la aceleracion: \"))\n",
        "t = float(input(\"Escriba el tiempo: \"))\n",
        "\n",
        "x = x0 + v0*t + 1/2 *(a*(t**2))\n",
        "\n",
        "print(\"la posición de una partícula que experimenta un movimiento uniformemente acelerado es de\", x)\n",
        "\n",
        "#comentarios\n",
        "##Este es un codigo de caracter numerico\n",
        "##En este problema la idea es saber las posición de cualquier partícula con la formula establecida. Todo esto con ayuda de varios sistemas de algoritmos digitamos las variables que deseamos  y automáticamente saber la respuesta exacta."
      ],
      "metadata": {
        "colab": {
          "base_uri": "https://localhost:8080/"
        },
        "id": "MkwuLcHyLPFW",
        "outputId": "b5c55064-c37c-444c-8259-6364475b0a44"
      },
      "execution_count": null,
      "outputs": [
        {
          "output_type": "stream",
          "name": "stdout",
          "text": [
            "Escriba la posicion inicial: 10\n",
            "Escriba su velocidad inicial: 3.4\n",
            "Escriba la aceleracion: 9.81\n",
            "Escriba el tiempo: 5\n",
            "la posición de una partícula que experimenta un movimiento uniformemente acelerado es de 149.625\n"
          ]
        }
      ]
    },
    {
      "cell_type": "code",
      "source": [
        "x1 = float(input(\"Escriba la posicion del primer punto en x: \"))\n",
        "y1 = float(input(\"Escriba la posicion del primer punto en y: \"))\n",
        "\n",
        "x2 = float(input(\"Escriba la posicion del segundo punto en x: \"))\n",
        "y2 = float(input(\"Escriba la posicion del segundo punto en y: \"))\n",
        "\n",
        "d = (((x2-x1)**2)+((y2-y1)**2))\n",
        "\n",
        "print(d**(1/2))\n",
        "\n",
        "#comentarios\n",
        "##Este es un codigo de caracter numerico\n",
        "##Tenemos la necesidad de saber las distancias de un punto A hasta un punto B. Por medio de este sistema  de algoritmos digitamos la fórmula correspondiente y poder hallar la respuesta"
      ],
      "metadata": {
        "colab": {
          "base_uri": "https://localhost:8080/"
        },
        "id": "8TQ-kh3DM4sN",
        "outputId": "b22ac846-63a8-48b0-f8c4-ac78953c45c8"
      },
      "execution_count": null,
      "outputs": [
        {
          "output_type": "stream",
          "name": "stdout",
          "text": [
            "Escriba la posicion del primer punto en x: 3.5\n",
            "Escriba la posicion del primer punto en y: 4.37\n",
            "Escriba la posicion del segundo punto en x: 3.12\n",
            "Escriba la posicion del segundo punto en y: 6.97\n",
            "2.627622499523095\n"
          ]
        }
      ]
    },
    {
      "cell_type": "code",
      "source": [
        "import math\n",
        "\n",
        "r = float(input(\"Escriba el radio: \"))\n",
        "h = float(input(\"Escriba la altura: \"))\n",
        "\n",
        "print(\"El volumen del cilindro es\", ((r**2)*math.pi*h))\n",
        "\n",
        "#comentarios\n",
        "##Este es un codigo de caracter numerico\n",
        "##Como saber los volúmenes de cualquier cilindro? Pues por medio de esta fórmula algoritmica se logra saber con certeza los resultados que deseamos reemplazando los valores que le otorguemos"
      ],
      "metadata": {
        "colab": {
          "base_uri": "https://localhost:8080/"
        },
        "id": "goo6k17vOJqI",
        "outputId": "ac3026c2-bc47-482f-e393-cb75c8c2748f"
      },
      "execution_count": null,
      "outputs": [
        {
          "output_type": "stream",
          "name": "stdout",
          "text": [
            "Escriba el radio: 3\n",
            "Escriba la altura: 4\n",
            "El volumen del cilindro es 113.09733552923255\n"
          ]
        }
      ]
    },
    {
      "cell_type": "code",
      "source": [
        "a = float(input(\"Escriba el valor de a: \"))\n",
        "b = float(input(\"Escriba el valor de b: \"))\n",
        "c = float(input(\"Escriba el valor de c: \"))\n",
        "d = float(input(\"Escriba el valor de d: \"))\n",
        "\n",
        "print(\"1.\", a > b and b > d)\n",
        "print(\"2.\", b <= c or c < d)\n",
        "print(\"3.\", a == b and b > c)\n",
        "print(\"4.\", a < c or b < c)\n",
        "print(\"5.\", a+d < c and b > 5)\n",
        "print(\"6.\", d-c >= (-a)*b)\n",
        "print(\"7.\", d*c == 5 or c*a > 9)\n",
        "print(\"8.\", (a*b)+c > (-d)*10)\n",
        "\n",
        "#comentarios\n",
        "##Este es un codigo de caracter booleano\n",
        "##Gracias a las formulas y sistemas que se plantearon logramos saber con absoluta certeza que tan verdadero o falso pueda ser cualquiera de estas operaciones o las que pongamos"
      ],
      "metadata": {
        "colab": {
          "base_uri": "https://localhost:8080/"
        },
        "id": "-euAjWJgScyI",
        "outputId": "7e888e1a-c173-4ae6-88d8-23cd9d9b5a97"
      },
      "execution_count": null,
      "outputs": [
        {
          "output_type": "stream",
          "name": "stdout",
          "text": [
            "Escriba el valor de a: 3.5\n",
            "Escriba el valor de b: 6.25\n",
            "Escriba el valor de c: 70.1\n",
            "Escriba el valor de d: 47.579\n",
            "1. False\n",
            "2. True\n",
            "3. False\n",
            "4. True\n",
            "5. True\n",
            "6. False\n",
            "7. True\n",
            "8. True\n"
          ]
        }
      ]
    }
  ]
}