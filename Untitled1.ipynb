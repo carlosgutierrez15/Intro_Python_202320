{
  "nbformat": 4,
  "nbformat_minor": 0,
  "metadata": {
    "colab": {
      "provenance": [],
      "authorship_tag": "ABX9TyOgsEyxeHYdUBPPHQX4zeQp",
      "include_colab_link": true
    },
    "kernelspec": {
      "name": "python3",
      "display_name": "Python 3"
    },
    "language_info": {
      "name": "python"
    }
  },
  "cells": [
    {
      "cell_type": "markdown",
      "metadata": {
        "id": "view-in-github",
        "colab_type": "text"
      },
      "source": [
        "<a href=\"https://colab.research.google.com/github/carlosgutierrez15/Intro_Python_202320/blob/main/Untitled1.ipynb\" target=\"_parent\"><img src=\"https://colab.research.google.com/assets/colab-badge.svg\" alt=\"Open In Colab\"/></a>"
      ]
    },
    {
      "cell_type": "markdown",
      "source": [
        "### Taller 4: Condicionales\n",
        "\n",
        "Carlos Gutierrez - ID: 000502183\n",
        "\n",
        "Email: carlos.gutierrezg@upb.edu.co"
      ],
      "metadata": {
        "id": "IKmcflCchP3B"
      }
    },
    {
      "cell_type": "code",
      "source": [
        "calificacion = float(input(\"ingresa tu calificacion numerica (de 0 a 5): \"))\n",
        "\n",
        "if calificacion >= 3:\n",
        "  print(\"usted a aprobado el curso, ¡felicitaciones!\")\n",
        "\n",
        "else : print(\"usted a reprobado el curso, ¡PATO!\")"
      ],
      "metadata": {
        "colab": {
          "base_uri": "https://localhost:8080/"
        },
        "id": "2fEoMFMmiLxA",
        "outputId": "3c0d79b6-a4b0-4dbf-986e-b20d3de78fc2"
      },
      "execution_count": 31,
      "outputs": [
        {
          "output_type": "stream",
          "name": "stdout",
          "text": [
            "ingresa tu calificacion numerica (de 0 a 5): 4.3\n",
            "usted a aprobado el curso, ¡felicitaciones!\n"
          ]
        }
      ]
    },
    {
      "cell_type": "code",
      "source": [
        "numero = float(input(\"ingresa un numero: \"))\n",
        "if numero >= 0:\n",
        "  print(\"el numero es positivo\")\n",
        "else : print(\"el numero es negativo\")"
      ],
      "metadata": {
        "colab": {
          "base_uri": "https://localhost:8080/"
        },
        "id": "meHgv6b2nBXJ",
        "outputId": "88dfd29c-3117-46d3-fa1f-3e242e5b7923"
      },
      "execution_count": 36,
      "outputs": [
        {
          "output_type": "stream",
          "name": "stdout",
          "text": [
            "ingresa un numero: 321213\n",
            "el numero es positivo\n"
          ]
        }
      ]
    },
    {
      "cell_type": "code",
      "source": [
        "contraseña = input(\"ingrese tu contraseña: \")\n",
        "if contraseña == \"patacon12\":\n",
        "  print(\"la contraseña validá\")\n",
        "\n",
        "else : print(\"la contraseña incorrecta\")"
      ],
      "metadata": {
        "colab": {
          "base_uri": "https://localhost:8080/"
        },
        "id": "dUeQnKDkonW7",
        "outputId": "ed1f4af0-1e58-4772-ec4e-a01c45c5a743"
      },
      "execution_count": 34,
      "outputs": [
        {
          "output_type": "stream",
          "name": "stdout",
          "text": [
            "ingrese tu contraseña: patacon12\n",
            "la contraseña validá\n"
          ]
        }
      ]
    },
    {
      "cell_type": "code",
      "source": [
        "numero = float(input(\"ingresa un numero: \"))\n",
        "if numero % 2 == 0:\n",
        "  print(\"el numero es par\")\n",
        "\n",
        "else : print(\"el numero es impar\")"
      ],
      "metadata": {
        "colab": {
          "base_uri": "https://localhost:8080/"
        },
        "id": "ml8RsLRxqQn5",
        "outputId": "c8bc3318-c5d6-45b2-a057-eb7a7f3fc2df"
      },
      "execution_count": 33,
      "outputs": [
        {
          "output_type": "stream",
          "name": "stdout",
          "text": [
            "ingresa un numero: 88\n",
            "el numero es par\n"
          ]
        }
      ]
    },
    {
      "cell_type": "code",
      "source": [
        "numero1 = float(input(\"ingrese el primer numero: \"))\n",
        "numero2 = float(input(\"ingrese el segundo numero: \"))\n",
        "numero3 = float(input(\"ingrese el tercer numero: \"))\n",
        "numero4 = float(input(\"ingrese el cuarto numero: \"))\n",
        "numero5 = float(input(\"ingrese el quinto numero: \"))\n",
        "if numero1 < numero2 and numero3 and numero4 and numero5\n",
        "print('el numero', numero1 'es el mayor')\n",
        "\n",
        "if numero2 < numero1 and numero3 and numero4 and numero5\n",
        "print('el numero', numero2 'es el mayor')\n",
        "\n",
        "if numero3 < numero1 and numero2 and numero4 and numero5\n",
        "print('el numero', numero3 'es el mayor')\n",
        "\n",
        "if numero4 < numero1 and numero2 and numero3 and numero5\n",
        "print('el numero', numero4 'es el mayor')\n",
        "\n",
        "if numero5 < numero1 and numero2 and numero3 and numero4\n",
        "print('el numero', numero5 'es el mayor')"
      ],
      "metadata": {
        "colab": {
          "base_uri": "https://localhost:8080/",
          "height": 140
        },
        "id": "WLs4KrgOssXR",
        "outputId": "b6386335-f3a4-44ad-d78a-30c780e43c0e"
      },
      "execution_count": 42,
      "outputs": [
        {
          "output_type": "error",
          "ename": "SyntaxError",
          "evalue": "ignored",
          "traceback": [
            "\u001b[0;36m  File \u001b[0;32m\"<ipython-input-42-f5e00e77103e>\"\u001b[0;36m, line \u001b[0;32m6\u001b[0m\n\u001b[0;31m    if numero1 < numero2: and numero3: and numero4: and numero5:\u001b[0m\n\u001b[0m                          ^\u001b[0m\n\u001b[0;31mSyntaxError\u001b[0m\u001b[0;31m:\u001b[0m invalid syntax\n"
          ]
        }
      ]
    },
    {
      "cell_type": "code",
      "source": [
        "edad = float(input(\"ingrese su edad\"))\n",
        "if edad <= 12:\n",
        "  categoria = \"niño\"\n",
        "if edad <= 19:\n",
        "  categoria = \"adolescente\"\n",
        "if edad <= 64:\n",
        "  categoria = \"adulto\"\n",
        "\n",
        "else : categoria = \"adulto mayor\"\n",
        "print(\"usted se encuentra en la categoria: \", categoria)"
      ],
      "metadata": {
        "colab": {
          "base_uri": "https://localhost:8080/"
        },
        "id": "D6HMFvI4uvKE",
        "outputId": "d8c2be04-d2fd-4d14-c781-6305e8c1a1e3"
      },
      "execution_count": 37,
      "outputs": [
        {
          "output_type": "stream",
          "name": "stdout",
          "text": [
            "ingrese su edad9\n",
            "usted se encuentra en la categoria:  adulto\n"
          ]
        }
      ]
    },
    {
      "cell_type": "code",
      "source": [],
      "metadata": {
        "id": "AStVKSJlwayz"
      },
      "execution_count": null,
      "outputs": []
    }
  ]
}