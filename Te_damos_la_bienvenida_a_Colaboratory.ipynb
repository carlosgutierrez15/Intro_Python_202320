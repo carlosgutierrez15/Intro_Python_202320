{
  "cells": [
    {
      "cell_type": "markdown",
      "metadata": {
        "id": "view-in-github",
        "colab_type": "text"
      },
      "source": [
        "<a href=\"https://colab.research.google.com/github/carlosgutierrez15/Intro_Python_202320/blob/main/Te_damos_la_bienvenida_a_Colaboratory.ipynb\" target=\"_parent\"><img src=\"https://colab.research.google.com/assets/colab-badge.svg\" alt=\"Open In Colab\"/></a>"
      ]
    },
    {
      "cell_type": "markdown",
      "source": [
        "# Introduccion a Python\n",
        "## Curso de programacion y algorirmia UPB 202320\n",
        "- Nombre: Carlos Gutierrez y Walter Charris\n",
        "- ID: 000502183 - 000483335\n",
        "- Email: carlos.gutierrezg@upb.edu.co - walter.charris@upb.edu.co\n",
        "\n",
        "Esta es la expresio de la linea recta:\n",
        "$$y=mx+b$$\n",
        "Donde $x$ es la posicion, $m$ es la pendiente\n"
      ],
      "metadata": {
        "id": "U2yGT6TgbQH3"
      }
    },
    {
      "cell_type": "code",
      "source": [
        "# Comentarios\n",
        "\n",
        "## Mis primeras lineas de codigo en Python\n",
        "name = 'Carlos gutierrez'\n",
        "print(\"Hello,\", name)\n"
      ],
      "metadata": {
        "colab": {
          "base_uri": "https://localhost:8080/"
        },
        "id": "UqBlwKevZuVX",
        "outputId": "587af97a-fe61-4352-d475-f56174c845da"
      },
      "execution_count": 3,
      "outputs": [
        {
          "output_type": "stream",
          "name": "stdout",
          "text": [
            "Hello, Carlos gutierrez\n"
          ]
        }
      ]
    },
    {
      "cell_type": "code",
      "source": [
        "# Mi nombre\n",
        "firtsname = \"Carlos\"\n",
        "lastname = \"gutierrez\"\n",
        "age = \"18\"\n",
        "city = \"Corozal\"\n",
        "food = \"espaguetis\"\n",
        "\n",
        "## Lineas de codigo\n",
        "print(\"mi nombre es\", firtsname, lastname,\"tengo\", age,\"vivo en\", city, \"y me gustan los\", food)\n"
      ],
      "metadata": {
        "colab": {
          "base_uri": "https://localhost:8080/"
        },
        "id": "_Y2ieVRVZyZH",
        "outputId": "89d70e84-f454-4051-b4d2-6559362a827e"
      },
      "execution_count": 4,
      "outputs": [
        {
          "output_type": "stream",
          "name": "stdout",
          "text": [
            "mi nombre es Carlos gutierrez tengo 18 vivo en Corozal y me gustan los espaguetis\n"
          ]
        }
      ]
    },
    {
      "cell_type": "code",
      "source": [
        "a = 52\n",
        "b = 18\n",
        "c = a + b\n",
        "print(c)\n",
        "c = c / a\n",
        "print(int(c))\n",
        "c = (b * c) + 5\n",
        "print(int(c))"
      ],
      "metadata": {
        "colab": {
          "base_uri": "https://localhost:8080/"
        },
        "id": "eLGb_lEdbgpp",
        "outputId": "82a7928e-5dfd-4e5d-ecef-355cbad08acc"
      },
      "execution_count": 5,
      "outputs": [
        {
          "output_type": "stream",
          "name": "stdout",
          "text": [
            "70\n",
            "1\n",
            "29\n"
          ]
        }
      ]
    }
  ],
  "metadata": {
    "colab": {
      "name": "Te damos la bienvenida a Colaboratory",
      "toc_visible": true,
      "provenance": [],
      "include_colab_link": true
    },
    "kernelspec": {
      "display_name": "Python 3",
      "name": "python3"
    }
  },
  "nbformat": 4,
  "nbformat_minor": 0
}