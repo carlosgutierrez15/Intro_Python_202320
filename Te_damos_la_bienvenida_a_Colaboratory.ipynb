{
  "cells": [
    {
      "cell_type": "markdown",
      "metadata": {
        "id": "view-in-github",
        "colab_type": "text"
      },
      "source": [
        "<a href=\"https://colab.research.google.com/github/carlosgutierrez15/Intro_Python_202320/blob/main/Te_damos_la_bienvenida_a_Colaboratory.ipynb\" target=\"_parent\"><img src=\"https://colab.research.google.com/assets/colab-badge.svg\" alt=\"Open In Colab\"/></a>"
      ]
    },
    {
      "cell_type": "markdown",
      "source": [
        "# Introduccion a Python\n",
        "## Curso de programacion y algorirmia UPB 202320\n",
        "- Nombre: Carlos Gutierrez\n",
        "- ID: 000502183\n",
        "- Email: carlos.gutierrezg@upb.edu.co\n",
        "\n",
        "Esta es la expresio de la linea recta:\n",
        "$$y=mx+b$$\n",
        "Donde $x$ es la posicion, $m$ es la pendiente\n"
      ],
      "metadata": {
        "id": "U2yGT6TgbQH3"
      }
    },
    {
      "cell_type": "code",
      "source": [
        "# Comentarios\n",
        "\n",
        "## Mis primeras lineas de codigo en Python\n",
        "name = 'Carlos gutierrez'\n",
        "print(\"Hello,\", name)\n"
      ],
      "metadata": {
        "colab": {
          "base_uri": "https://localhost:8080/"
        },
        "id": "UqBlwKevZuVX",
        "outputId": "587af97a-fe61-4352-d475-f56174c845da"
      },
      "execution_count": 3,
      "outputs": [
        {
          "output_type": "stream",
          "name": "stdout",
          "text": [
            "Hello, Carlos gutierrez\n"
          ]
        }
      ]
    },
    {
      "cell_type": "code",
      "source": [
        "# Mi nombre\n",
        "firtsname = \"Carlos\"\n",
        "lastname = \"gutierrez\"\n",
        "age = \"18\"\n",
        "city = \"Corozal\"\n",
        "food = \"espaguetis\"\n",
        "\n",
        "## Lineas de codigo\n",
        "print(\"mi nombre es\", firtsname, lastname,\"tengo\", age,\"vivo en\", city, \"y me gustan los\", food)\n"
      ],
      "metadata": {
        "colab": {
          "base_uri": "https://localhost:8080/"
        },
        "id": "_Y2ieVRVZyZH",
        "outputId": "89d70e84-f454-4051-b4d2-6559362a827e"
      },
      "execution_count": 4,
      "outputs": [
        {
          "output_type": "stream",
          "name": "stdout",
          "text": [
            "mi nombre es Carlos gutierrez tengo 18 vivo en Corozal y me gustan los espaguetis\n"
          ]
        }
      ]
    },
    {
      "cell_type": "code",
      "source": [
        "a = 52\n",
        "b = 18\n",
        "c = a + b\n",
        "print(c)\n",
        "c = c / a\n",
        "print(int(c))\n",
        "c = (b * c) + 5\n",
        "print(int(c))\n",
        "c /= 3\n",
        "print(int(c))"
      ],
      "metadata": {
        "colab": {
          "base_uri": "https://localhost:8080/"
        },
        "id": "eLGb_lEdbgpp",
        "outputId": "6a9587ca-8ee2-44a7-eaa7-dd3bbf4c8134"
      },
      "execution_count": 8,
      "outputs": [
        {
          "output_type": "stream",
          "name": "stdout",
          "text": [
            "70\n",
            "1\n",
            "29\n",
            "9\n"
          ]
        }
      ]
    },
    {
      "cell_type": "code",
      "source": [
        "b=5\n",
        "m=4\n",
        "x=-1\n",
        "y=m * x + b\n",
        "print(y)\n",
        "\n",
        "x=-3\n",
        "y=m * x + b\n",
        "print(x, '/---/' , y)\n",
        "\n",
        "X=-2\n",
        "y=m * x + b\n",
        "print(x, '/---/' , y)"
      ],
      "metadata": {
        "id": "xcUs6Vzhd8dN",
        "outputId": "8e53b0f4-0f52-48b3-e313-eda0d551e83e",
        "colab": {
          "base_uri": "https://localhost:8080/"
        }
      },
      "execution_count": 14,
      "outputs": [
        {
          "output_type": "stream",
          "name": "stdout",
          "text": [
            "1\n",
            "-3 /---/ -7\n",
            "-3 /---/ -7\n"
          ]
        }
      ]
    },
    {
      "cell_type": "code",
      "source": [
        "a = 0.1\n",
        "b = -2\n",
        "c = 0.5\n",
        "x = 2\n",
        "y = x**2 + 2*x - 8\n",
        "print(\"x\",y)\n",
        "t = -3*x**2 -8\n",
        "print(\"x\",t)\n",
        "disc = (b*2 - 4 * a * c) * (1/2)\n",
        "x_p = (-b + disc) / (2 * a)\n",
        "x_n = (-b - disc) / (2 * a)\n",
        "print('x_p', x_p)\n",
        "print('x_n',x_n)\n",
        "print('-' *10)"
      ],
      "metadata": {
        "id": "G36xRrQugJoE",
        "outputId": "74ee8590-b765-4cdb-ea32-d8038893604d",
        "colab": {
          "base_uri": "https://localhost:8080/"
        }
      },
      "execution_count": 26,
      "outputs": [
        {
          "output_type": "stream",
          "name": "stdout",
          "text": [
            "x 0\n",
            "x -20\n",
            "x_p -0.5000000000000004\n",
            "x_n 20.499999999999996\n",
            "----------\n"
          ]
        }
      ]
    },
    {
      "cell_type": "code",
      "source": [
        "firstname = 'carlos'\n",
        "lastname = 'gutierrez'\n",
        "fullname = firstname + ' ' + lastname\n",
        "print(fullname)"
      ],
      "metadata": {
        "id": "LsEf2r6qkanM",
        "outputId": "4e169dbc-d37c-4660-8582-3b2ee31cdbbe",
        "colab": {
          "base_uri": "https://localhost:8080/"
        }
      },
      "execution_count": 20,
      "outputs": [
        {
          "output_type": "stream",
          "name": "stdout",
          "text": [
            "carlos gutierrez\n"
          ]
        }
      ]
    },
    {
      "cell_type": "code",
      "source": [
        "song = \"\"\"los pollitos dicen pio pio pio\"\"\"\n",
        "print(song)"
      ],
      "metadata": {
        "id": "9g6Zu0QTjGwr",
        "outputId": "2eab72a6-fcaa-4367-8aef-04fa5d02ad61",
        "colab": {
          "base_uri": "https://localhost:8080/"
        }
      },
      "execution_count": 23,
      "outputs": [
        {
          "output_type": "stream",
          "name": "stdout",
          "text": [
            "los pollitos dicen pio pio pio\n"
          ]
        }
      ]
    },
    {
      "cell_type": "code",
      "source": [
        "a = 3\n",
        "b = 5\n",
        "print(a == b)\n",
        "print(a != b)\n",
        "print(a > b)\n",
        "print(a < b)\n",
        "print((a == b) and (b + 3 > 5))\n",
        "print((a == b) or (b + 3 > 5))\n",
        "print(not (a == b))"
      ],
      "metadata": {
        "id": "K5iUweT9mXR9",
        "outputId": "d284ab87-10c3-40ba-b633-53bc50823da3",
        "colab": {
          "base_uri": "https://localhost:8080/"
        }
      },
      "execution_count": 31,
      "outputs": [
        {
          "output_type": "stream",
          "name": "stdout",
          "text": [
            "False\n",
            "True\n",
            "False\n",
            "True\n",
            "False\n",
            "True\n",
            "True\n"
          ]
        }
      ]
    },
    {
      "cell_type": "code",
      "source": [],
      "metadata": {
        "id": "bL17cBBvmcXE"
      },
      "execution_count": null,
      "outputs": []
    }
  ],
  "metadata": {
    "colab": {
      "name": "Te damos la bienvenida a Colaboratory",
      "toc_visible": true,
      "provenance": [],
      "include_colab_link": true
    },
    "kernelspec": {
      "display_name": "Python 3",
      "name": "python3"
    }
  },
  "nbformat": 4,
  "nbformat_minor": 0
}